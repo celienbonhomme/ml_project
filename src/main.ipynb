{
 "cells": [
  {
   "cell_type": "markdown",
   "metadata": {},
   "source": [
    "# Load data"
   ]
  },
  {
   "cell_type": "code",
   "execution_count": 1,
   "metadata": {},
   "outputs": [
    {
     "name": "stderr",
     "output_type": "stream",
     "text": [
      "/tmp/ipykernel_5829/4080736814.py:1: DeprecationWarning: \n",
      "Pyarrow will become a required dependency of pandas in the next major release of pandas (pandas 3.0),\n",
      "(to allow more performant data types, such as the Arrow string type, and better interoperability with other libraries)\n",
      "but was not found to be installed on your system.\n",
      "If this would cause problems for you,\n",
      "please provide us feedback at https://github.com/pandas-dev/pandas/issues/54466\n",
      "        \n",
      "  import pandas as pd\n"
     ]
    }
   ],
   "source": [
    "import pandas as pd"
   ]
  },
  {
   "cell_type": "code",
   "execution_count": 2,
   "metadata": {},
   "outputs": [],
   "source": [
    "from pathlib import Path\n",
    "\n",
    "def load_data(path: str) -> pd.DataFrame:\n",
    "    data = pd.read_csv(Path(path))\n",
    "    return data"
   ]
  },
  {
   "cell_type": "code",
   "execution_count": 3,
   "metadata": {},
   "outputs": [],
   "source": [
    "data = load_data(\"../data/data.csv\")"
   ]
  },
  {
   "cell_type": "code",
   "execution_count": 4,
   "metadata": {},
   "outputs": [
    {
     "name": "stdout",
     "output_type": "stream",
     "text": [
      "<class 'pandas.core.frame.DataFrame'>\n",
      "RangeIndex: 7613 entries, 0 to 7612\n",
      "Data columns (total 5 columns):\n",
      " #   Column    Non-Null Count  Dtype \n",
      "---  ------    --------------  ----- \n",
      " 0   id        7613 non-null   int64 \n",
      " 1   keyword   7552 non-null   object\n",
      " 2   location  5080 non-null   object\n",
      " 3   text      7613 non-null   object\n",
      " 4   target    7613 non-null   int64 \n",
      "dtypes: int64(2), object(3)\n",
      "memory usage: 297.5+ KB\n"
     ]
    }
   ],
   "source": [
    "data.info()"
   ]
  },
  {
   "cell_type": "markdown",
   "metadata": {},
   "source": [
    "# Preprocessing"
   ]
  },
  {
   "cell_type": "code",
   "execution_count": 5,
   "metadata": {},
   "outputs": [],
   "source": [
    "from warnings import filterwarnings\n",
    "filterwarnings(\"ignore\")"
   ]
  },
  {
   "cell_type": "code",
   "execution_count": 6,
   "metadata": {},
   "outputs": [],
   "source": [
    "from sentence_transformers import SentenceTransformer\n",
    "\n",
    "# intfloat/e5-small-v2 or intfloat/e5-base-v2 or intfloat/e5-large-v2\n",
    "model = SentenceTransformer(\"intfloat/e5-large-v2\")"
   ]
  },
  {
   "cell_type": "code",
   "execution_count": 7,
   "metadata": {},
   "outputs": [
    {
     "name": "stdout",
     "output_type": "stream",
     "text": [
      "GPU is available and accessible.\n"
     ]
    }
   ],
   "source": [
    "import torch\n",
    "\n",
    "if torch.cuda.is_available():\n",
    "    print(\"GPU is available and accessible.\")\n",
    "else:\n",
    "    print(\"GPU is not available or accessible.\")\n"
   ]
  },
  {
   "cell_type": "code",
   "execution_count": 13,
   "metadata": {},
   "outputs": [
    {
     "data": {
      "application/vnd.jupyter.widget-view+json": {
       "model_id": "b02bb8432b4e4a219878d30dad5cd696",
       "version_major": 2,
       "version_minor": 0
      },
      "text/plain": [
       "Batches:   0%|          | 0/238 [00:00<?, ?it/s]"
      ]
     },
     "metadata": {},
     "output_type": "display_data"
    }
   ],
   "source": [
    "embeddings = model.encode(data['text'], normalize_embeddings=True, show_progress_bar=True, device=\"cuda:0\")"
   ]
  },
  {
   "cell_type": "code",
   "execution_count": 9,
   "metadata": {},
   "outputs": [
    {
     "name": "stdout",
     "output_type": "stream",
     "text": [
      "embedding size : 1024\n"
     ]
    }
   ],
   "source": [
    "nb_comp = len(embeddings[0])\n",
    "nb_data = len(embeddings)\n",
    "print(f\"embedding size : {nb_comp}\")"
   ]
  },
  {
   "cell_type": "code",
   "execution_count": 10,
   "metadata": {},
   "outputs": [],
   "source": [
    "for num_comp in range(nb_comp):\n",
    "    data['x_' + str(num_comp)] = [embeddings[k][num_comp] for k in range(nb_data)]"
   ]
  },
  {
   "cell_type": "code",
   "execution_count": 11,
   "metadata": {},
   "outputs": [
    {
     "data": {
      "text/html": [
       "<div>\n",
       "<style scoped>\n",
       "    .dataframe tbody tr th:only-of-type {\n",
       "        vertical-align: middle;\n",
       "    }\n",
       "\n",
       "    .dataframe tbody tr th {\n",
       "        vertical-align: top;\n",
       "    }\n",
       "\n",
       "    .dataframe thead th {\n",
       "        text-align: right;\n",
       "    }\n",
       "</style>\n",
       "<table border=\"1\" class=\"dataframe\">\n",
       "  <thead>\n",
       "    <tr style=\"text-align: right;\">\n",
       "      <th></th>\n",
       "      <th>id</th>\n",
       "      <th>keyword</th>\n",
       "      <th>location</th>\n",
       "      <th>text</th>\n",
       "      <th>target</th>\n",
       "      <th>x_0</th>\n",
       "      <th>x_1</th>\n",
       "      <th>x_2</th>\n",
       "      <th>x_3</th>\n",
       "      <th>x_4</th>\n",
       "      <th>...</th>\n",
       "      <th>x_1014</th>\n",
       "      <th>x_1015</th>\n",
       "      <th>x_1016</th>\n",
       "      <th>x_1017</th>\n",
       "      <th>x_1018</th>\n",
       "      <th>x_1019</th>\n",
       "      <th>x_1020</th>\n",
       "      <th>x_1021</th>\n",
       "      <th>x_1022</th>\n",
       "      <th>x_1023</th>\n",
       "    </tr>\n",
       "  </thead>\n",
       "  <tbody>\n",
       "    <tr>\n",
       "      <th>0</th>\n",
       "      <td>1</td>\n",
       "      <td>NaN</td>\n",
       "      <td>NaN</td>\n",
       "      <td>Our Deeds are the Reason of this #earthquake M...</td>\n",
       "      <td>1</td>\n",
       "      <td>0.011803</td>\n",
       "      <td>-0.031025</td>\n",
       "      <td>0.034121</td>\n",
       "      <td>-0.020263</td>\n",
       "      <td>-0.009868</td>\n",
       "      <td>...</td>\n",
       "      <td>0.003252</td>\n",
       "      <td>-0.009478</td>\n",
       "      <td>0.014789</td>\n",
       "      <td>0.010092</td>\n",
       "      <td>0.004460</td>\n",
       "      <td>-0.016296</td>\n",
       "      <td>0.069081</td>\n",
       "      <td>-0.030228</td>\n",
       "      <td>0.015628</td>\n",
       "      <td>0.037624</td>\n",
       "    </tr>\n",
       "    <tr>\n",
       "      <th>1</th>\n",
       "      <td>4</td>\n",
       "      <td>NaN</td>\n",
       "      <td>NaN</td>\n",
       "      <td>Forest fire near La Ronge Sask. Canada</td>\n",
       "      <td>1</td>\n",
       "      <td>0.011739</td>\n",
       "      <td>-0.013322</td>\n",
       "      <td>0.018322</td>\n",
       "      <td>0.001877</td>\n",
       "      <td>-0.020319</td>\n",
       "      <td>...</td>\n",
       "      <td>0.029806</td>\n",
       "      <td>-0.005918</td>\n",
       "      <td>0.028307</td>\n",
       "      <td>0.035091</td>\n",
       "      <td>-0.008006</td>\n",
       "      <td>-0.024362</td>\n",
       "      <td>0.050332</td>\n",
       "      <td>-0.052541</td>\n",
       "      <td>0.033290</td>\n",
       "      <td>0.006768</td>\n",
       "    </tr>\n",
       "    <tr>\n",
       "      <th>2</th>\n",
       "      <td>5</td>\n",
       "      <td>NaN</td>\n",
       "      <td>NaN</td>\n",
       "      <td>All residents asked to 'shelter in place' are ...</td>\n",
       "      <td>1</td>\n",
       "      <td>0.016125</td>\n",
       "      <td>-0.040696</td>\n",
       "      <td>0.013457</td>\n",
       "      <td>-0.034184</td>\n",
       "      <td>-0.030858</td>\n",
       "      <td>...</td>\n",
       "      <td>0.017645</td>\n",
       "      <td>-0.018340</td>\n",
       "      <td>0.033430</td>\n",
       "      <td>0.038974</td>\n",
       "      <td>0.044836</td>\n",
       "      <td>-0.028837</td>\n",
       "      <td>0.032119</td>\n",
       "      <td>-0.033722</td>\n",
       "      <td>0.016990</td>\n",
       "      <td>0.014847</td>\n",
       "    </tr>\n",
       "    <tr>\n",
       "      <th>3</th>\n",
       "      <td>6</td>\n",
       "      <td>NaN</td>\n",
       "      <td>NaN</td>\n",
       "      <td>13,000 people receive #wildfires evacuation or...</td>\n",
       "      <td>1</td>\n",
       "      <td>0.027257</td>\n",
       "      <td>-0.038108</td>\n",
       "      <td>0.032964</td>\n",
       "      <td>-0.001223</td>\n",
       "      <td>-0.010603</td>\n",
       "      <td>...</td>\n",
       "      <td>0.035597</td>\n",
       "      <td>-0.016341</td>\n",
       "      <td>0.016920</td>\n",
       "      <td>0.024618</td>\n",
       "      <td>0.036177</td>\n",
       "      <td>-0.036252</td>\n",
       "      <td>0.023896</td>\n",
       "      <td>-0.023695</td>\n",
       "      <td>0.003887</td>\n",
       "      <td>0.027429</td>\n",
       "    </tr>\n",
       "    <tr>\n",
       "      <th>4</th>\n",
       "      <td>7</td>\n",
       "      <td>NaN</td>\n",
       "      <td>NaN</td>\n",
       "      <td>Just got sent this photo from Ruby #Alaska as ...</td>\n",
       "      <td>1</td>\n",
       "      <td>0.024751</td>\n",
       "      <td>-0.048040</td>\n",
       "      <td>0.021240</td>\n",
       "      <td>-0.013732</td>\n",
       "      <td>-0.037089</td>\n",
       "      <td>...</td>\n",
       "      <td>0.030447</td>\n",
       "      <td>-0.007058</td>\n",
       "      <td>0.007583</td>\n",
       "      <td>0.054259</td>\n",
       "      <td>0.026876</td>\n",
       "      <td>-0.016711</td>\n",
       "      <td>0.023218</td>\n",
       "      <td>-0.028445</td>\n",
       "      <td>0.035993</td>\n",
       "      <td>-0.002563</td>\n",
       "    </tr>\n",
       "    <tr>\n",
       "      <th>...</th>\n",
       "      <td>...</td>\n",
       "      <td>...</td>\n",
       "      <td>...</td>\n",
       "      <td>...</td>\n",
       "      <td>...</td>\n",
       "      <td>...</td>\n",
       "      <td>...</td>\n",
       "      <td>...</td>\n",
       "      <td>...</td>\n",
       "      <td>...</td>\n",
       "      <td>...</td>\n",
       "      <td>...</td>\n",
       "      <td>...</td>\n",
       "      <td>...</td>\n",
       "      <td>...</td>\n",
       "      <td>...</td>\n",
       "      <td>...</td>\n",
       "      <td>...</td>\n",
       "      <td>...</td>\n",
       "      <td>...</td>\n",
       "      <td>...</td>\n",
       "    </tr>\n",
       "    <tr>\n",
       "      <th>7608</th>\n",
       "      <td>10869</td>\n",
       "      <td>NaN</td>\n",
       "      <td>NaN</td>\n",
       "      <td>Two giant cranes holding a bridge collapse int...</td>\n",
       "      <td>1</td>\n",
       "      <td>0.009944</td>\n",
       "      <td>-0.023126</td>\n",
       "      <td>0.010891</td>\n",
       "      <td>-0.024258</td>\n",
       "      <td>-0.054451</td>\n",
       "      <td>...</td>\n",
       "      <td>-0.005942</td>\n",
       "      <td>-0.006825</td>\n",
       "      <td>0.000577</td>\n",
       "      <td>-0.002899</td>\n",
       "      <td>0.026869</td>\n",
       "      <td>-0.005748</td>\n",
       "      <td>0.047420</td>\n",
       "      <td>-0.009907</td>\n",
       "      <td>0.039656</td>\n",
       "      <td>0.029818</td>\n",
       "    </tr>\n",
       "    <tr>\n",
       "      <th>7609</th>\n",
       "      <td>10870</td>\n",
       "      <td>NaN</td>\n",
       "      <td>NaN</td>\n",
       "      <td>@aria_ahrary @TheTawniest The out of control w...</td>\n",
       "      <td>1</td>\n",
       "      <td>0.027626</td>\n",
       "      <td>-0.040357</td>\n",
       "      <td>0.042238</td>\n",
       "      <td>-0.002208</td>\n",
       "      <td>-0.007951</td>\n",
       "      <td>...</td>\n",
       "      <td>0.011700</td>\n",
       "      <td>-0.023696</td>\n",
       "      <td>0.031429</td>\n",
       "      <td>0.001988</td>\n",
       "      <td>0.039541</td>\n",
       "      <td>-0.018200</td>\n",
       "      <td>0.052215</td>\n",
       "      <td>-0.027219</td>\n",
       "      <td>0.005467</td>\n",
       "      <td>-0.016417</td>\n",
       "    </tr>\n",
       "    <tr>\n",
       "      <th>7610</th>\n",
       "      <td>10871</td>\n",
       "      <td>NaN</td>\n",
       "      <td>NaN</td>\n",
       "      <td>M1.94 [01:04 UTC]?5km S of Volcano Hawaii. htt...</td>\n",
       "      <td>1</td>\n",
       "      <td>0.005850</td>\n",
       "      <td>-0.071938</td>\n",
       "      <td>0.029449</td>\n",
       "      <td>-0.000528</td>\n",
       "      <td>-0.048940</td>\n",
       "      <td>...</td>\n",
       "      <td>0.027868</td>\n",
       "      <td>-0.013050</td>\n",
       "      <td>0.006874</td>\n",
       "      <td>0.003968</td>\n",
       "      <td>0.025952</td>\n",
       "      <td>-0.007909</td>\n",
       "      <td>0.032589</td>\n",
       "      <td>-0.009245</td>\n",
       "      <td>0.023993</td>\n",
       "      <td>0.013514</td>\n",
       "    </tr>\n",
       "    <tr>\n",
       "      <th>7611</th>\n",
       "      <td>10872</td>\n",
       "      <td>NaN</td>\n",
       "      <td>NaN</td>\n",
       "      <td>Police investigating after an e-bike collided ...</td>\n",
       "      <td>1</td>\n",
       "      <td>0.012210</td>\n",
       "      <td>-0.041141</td>\n",
       "      <td>0.012503</td>\n",
       "      <td>-0.010618</td>\n",
       "      <td>-0.019101</td>\n",
       "      <td>...</td>\n",
       "      <td>-0.004625</td>\n",
       "      <td>-0.022072</td>\n",
       "      <td>0.033457</td>\n",
       "      <td>0.007907</td>\n",
       "      <td>0.016308</td>\n",
       "      <td>-0.011299</td>\n",
       "      <td>0.053951</td>\n",
       "      <td>-0.036444</td>\n",
       "      <td>0.021340</td>\n",
       "      <td>0.015396</td>\n",
       "    </tr>\n",
       "    <tr>\n",
       "      <th>7612</th>\n",
       "      <td>10873</td>\n",
       "      <td>NaN</td>\n",
       "      <td>NaN</td>\n",
       "      <td>The Latest: More Homes Razed by Northern Calif...</td>\n",
       "      <td>1</td>\n",
       "      <td>0.026177</td>\n",
       "      <td>-0.033164</td>\n",
       "      <td>0.031371</td>\n",
       "      <td>-0.031784</td>\n",
       "      <td>-0.031370</td>\n",
       "      <td>...</td>\n",
       "      <td>0.008122</td>\n",
       "      <td>-0.029413</td>\n",
       "      <td>0.008511</td>\n",
       "      <td>0.002829</td>\n",
       "      <td>0.061996</td>\n",
       "      <td>-0.022828</td>\n",
       "      <td>0.048614</td>\n",
       "      <td>-0.027487</td>\n",
       "      <td>0.017136</td>\n",
       "      <td>-0.001877</td>\n",
       "    </tr>\n",
       "  </tbody>\n",
       "</table>\n",
       "<p>7613 rows × 1029 columns</p>\n",
       "</div>"
      ],
      "text/plain": [
       "         id keyword location  \\\n",
       "0         1     NaN      NaN   \n",
       "1         4     NaN      NaN   \n",
       "2         5     NaN      NaN   \n",
       "3         6     NaN      NaN   \n",
       "4         7     NaN      NaN   \n",
       "...     ...     ...      ...   \n",
       "7608  10869     NaN      NaN   \n",
       "7609  10870     NaN      NaN   \n",
       "7610  10871     NaN      NaN   \n",
       "7611  10872     NaN      NaN   \n",
       "7612  10873     NaN      NaN   \n",
       "\n",
       "                                                   text  target       x_0  \\\n",
       "0     Our Deeds are the Reason of this #earthquake M...       1  0.011803   \n",
       "1                Forest fire near La Ronge Sask. Canada       1  0.011739   \n",
       "2     All residents asked to 'shelter in place' are ...       1  0.016125   \n",
       "3     13,000 people receive #wildfires evacuation or...       1  0.027257   \n",
       "4     Just got sent this photo from Ruby #Alaska as ...       1  0.024751   \n",
       "...                                                 ...     ...       ...   \n",
       "7608  Two giant cranes holding a bridge collapse int...       1  0.009944   \n",
       "7609  @aria_ahrary @TheTawniest The out of control w...       1  0.027626   \n",
       "7610  M1.94 [01:04 UTC]?5km S of Volcano Hawaii. htt...       1  0.005850   \n",
       "7611  Police investigating after an e-bike collided ...       1  0.012210   \n",
       "7612  The Latest: More Homes Razed by Northern Calif...       1  0.026177   \n",
       "\n",
       "           x_1       x_2       x_3       x_4  ...    x_1014    x_1015  \\\n",
       "0    -0.031025  0.034121 -0.020263 -0.009868  ...  0.003252 -0.009478   \n",
       "1    -0.013322  0.018322  0.001877 -0.020319  ...  0.029806 -0.005918   \n",
       "2    -0.040696  0.013457 -0.034184 -0.030858  ...  0.017645 -0.018340   \n",
       "3    -0.038108  0.032964 -0.001223 -0.010603  ...  0.035597 -0.016341   \n",
       "4    -0.048040  0.021240 -0.013732 -0.037089  ...  0.030447 -0.007058   \n",
       "...        ...       ...       ...       ...  ...       ...       ...   \n",
       "7608 -0.023126  0.010891 -0.024258 -0.054451  ... -0.005942 -0.006825   \n",
       "7609 -0.040357  0.042238 -0.002208 -0.007951  ...  0.011700 -0.023696   \n",
       "7610 -0.071938  0.029449 -0.000528 -0.048940  ...  0.027868 -0.013050   \n",
       "7611 -0.041141  0.012503 -0.010618 -0.019101  ... -0.004625 -0.022072   \n",
       "7612 -0.033164  0.031371 -0.031784 -0.031370  ...  0.008122 -0.029413   \n",
       "\n",
       "        x_1016    x_1017    x_1018    x_1019    x_1020    x_1021    x_1022  \\\n",
       "0     0.014789  0.010092  0.004460 -0.016296  0.069081 -0.030228  0.015628   \n",
       "1     0.028307  0.035091 -0.008006 -0.024362  0.050332 -0.052541  0.033290   \n",
       "2     0.033430  0.038974  0.044836 -0.028837  0.032119 -0.033722  0.016990   \n",
       "3     0.016920  0.024618  0.036177 -0.036252  0.023896 -0.023695  0.003887   \n",
       "4     0.007583  0.054259  0.026876 -0.016711  0.023218 -0.028445  0.035993   \n",
       "...        ...       ...       ...       ...       ...       ...       ...   \n",
       "7608  0.000577 -0.002899  0.026869 -0.005748  0.047420 -0.009907  0.039656   \n",
       "7609  0.031429  0.001988  0.039541 -0.018200  0.052215 -0.027219  0.005467   \n",
       "7610  0.006874  0.003968  0.025952 -0.007909  0.032589 -0.009245  0.023993   \n",
       "7611  0.033457  0.007907  0.016308 -0.011299  0.053951 -0.036444  0.021340   \n",
       "7612  0.008511  0.002829  0.061996 -0.022828  0.048614 -0.027487  0.017136   \n",
       "\n",
       "        x_1023  \n",
       "0     0.037624  \n",
       "1     0.006768  \n",
       "2     0.014847  \n",
       "3     0.027429  \n",
       "4    -0.002563  \n",
       "...        ...  \n",
       "7608  0.029818  \n",
       "7609 -0.016417  \n",
       "7610  0.013514  \n",
       "7611  0.015396  \n",
       "7612 -0.001877  \n",
       "\n",
       "[7613 rows x 1029 columns]"
      ]
     },
     "execution_count": 11,
     "metadata": {},
     "output_type": "execute_result"
    }
   ],
   "source": [
    "data"
   ]
  },
  {
   "cell_type": "markdown",
   "metadata": {},
   "source": [
    "# Training"
   ]
  },
  {
   "cell_type": "markdown",
   "metadata": {},
   "source": [
    "## K-NN"
   ]
  },
  {
   "cell_type": "code",
   "execution_count": null,
   "metadata": {},
   "outputs": [],
   "source": []
  },
  {
   "cell_type": "markdown",
   "metadata": {},
   "source": [
    "## Linear regression"
   ]
  },
  {
   "cell_type": "code",
   "execution_count": null,
   "metadata": {},
   "outputs": [],
   "source": []
  },
  {
   "cell_type": "markdown",
   "metadata": {},
   "source": [
    "## Ridge regression"
   ]
  },
  {
   "cell_type": "code",
   "execution_count": null,
   "metadata": {},
   "outputs": [],
   "source": []
  },
  {
   "cell_type": "markdown",
   "metadata": {},
   "source": [
    "## Lasso regression"
   ]
  },
  {
   "cell_type": "code",
   "execution_count": null,
   "metadata": {},
   "outputs": [],
   "source": []
  },
  {
   "cell_type": "markdown",
   "metadata": {},
   "source": [
    "## BERT"
   ]
  },
  {
   "cell_type": "code",
   "execution_count": null,
   "metadata": {},
   "outputs": [],
   "source": []
  },
  {
   "cell_type": "markdown",
   "metadata": {},
   "source": [
    "# Evaluation"
   ]
  },
  {
   "cell_type": "code",
   "execution_count": null,
   "metadata": {},
   "outputs": [],
   "source": []
  }
 ],
 "metadata": {
  "kernelspec": {
   "display_name": "ml_project_env",
   "language": "python",
   "name": "python3"
  },
  "language_info": {
   "codemirror_mode": {
    "name": "ipython",
    "version": 3
   },
   "file_extension": ".py",
   "mimetype": "text/x-python",
   "name": "python",
   "nbconvert_exporter": "python",
   "pygments_lexer": "ipython3",
   "version": "3.9.18"
  }
 },
 "nbformat": 4,
 "nbformat_minor": 2
}
