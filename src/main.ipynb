{
 "cells": [
  {
   "cell_type": "markdown",
   "metadata": {},
   "source": [
    "# Load data"
   ]
  },
  {
   "cell_type": "code",
   "execution_count": 1,
   "metadata": {},
   "outputs": [
    {
     "name": "stderr",
     "output_type": "stream",
     "text": [
      "/tmp/ipykernel_48814/4080736814.py:1: DeprecationWarning: \n",
      "Pyarrow will become a required dependency of pandas in the next major release of pandas (pandas 3.0),\n",
      "(to allow more performant data types, such as the Arrow string type, and better interoperability with other libraries)\n",
      "but was not found to be installed on your system.\n",
      "If this would cause problems for you,\n",
      "please provide us feedback at https://github.com/pandas-dev/pandas/issues/54466\n",
      "        \n",
      "  import pandas as pd\n"
     ]
    }
   ],
   "source": [
    "import pandas as pd"
   ]
  },
  {
   "cell_type": "code",
   "execution_count": 2,
   "metadata": {},
   "outputs": [],
   "source": [
    "from pathlib import Path\n",
    "\n",
    "def load_data(path: str) -> pd.DataFrame:\n",
    "    data = pd.read_csv(Path(path))\n",
    "    return data"
   ]
  },
  {
   "cell_type": "code",
   "execution_count": 3,
   "metadata": {},
   "outputs": [],
   "source": [
    "data = load_data(\"../data/data.csv\")"
   ]
  },
  {
   "cell_type": "code",
   "execution_count": 4,
   "metadata": {},
   "outputs": [
    {
     "name": "stdout",
     "output_type": "stream",
     "text": [
      "<class 'pandas.core.frame.DataFrame'>\n",
      "RangeIndex: 7613 entries, 0 to 7612\n",
      "Data columns (total 5 columns):\n",
      " #   Column    Non-Null Count  Dtype \n",
      "---  ------    --------------  ----- \n",
      " 0   id        7613 non-null   int64 \n",
      " 1   keyword   7552 non-null   object\n",
      " 2   location  5080 non-null   object\n",
      " 3   text      7613 non-null   object\n",
      " 4   target    7613 non-null   int64 \n",
      "dtypes: int64(2), object(3)\n",
      "memory usage: 297.5+ KB\n"
     ]
    }
   ],
   "source": [
    "data.info()"
   ]
  },
  {
   "cell_type": "markdown",
   "metadata": {},
   "source": [
    "# Preprocessing"
   ]
  },
  {
   "cell_type": "code",
   "execution_count": 6,
   "metadata": {},
   "outputs": [],
   "source": [
    "from warnings import filterwarnings\n",
    "filterwarnings(\"ignore\")"
   ]
  },
  {
   "cell_type": "code",
   "execution_count": 7,
   "metadata": {},
   "outputs": [],
   "source": [
    "from sentence_transformers import SentenceTransformer\n",
    "\n",
    "# intfloat/e5-small-v2 or intfloat/e5-base-v2 or intfloat/e5-large-v2\n",
    "model = SentenceTransformer(\"intfloat/e5-small-v2\")"
   ]
  },
  {
   "cell_type": "code",
   "execution_count": 8,
   "metadata": {},
   "outputs": [
    {
     "data": {
      "application/vnd.jupyter.widget-view+json": {
       "model_id": "41fb798fd1ba4fc68aca48350c07a2c3",
       "version_major": 2,
       "version_minor": 0
      },
      "text/plain": [
       "Batches:   0%|          | 0/238 [00:00<?, ?it/s]"
      ]
     },
     "metadata": {},
     "output_type": "display_data"
    }
   ],
   "source": [
    "embeddings = model.encode(data['text'], normalize_embeddings=True, show_progress_bar=True, device='cuda')"
   ]
  },
  {
   "cell_type": "code",
   "execution_count": 9,
   "metadata": {},
   "outputs": [
    {
     "name": "stdout",
     "output_type": "stream",
     "text": [
      "embedding size : 384\n"
     ]
    }
   ],
   "source": [
    "nb_comp = len(embeddings[0])\n",
    "nb_data = len(embeddings)\n",
    "print(f\"embedding size : {nb_comp}\")"
   ]
  },
  {
   "cell_type": "code",
   "execution_count": 10,
   "metadata": {},
   "outputs": [],
   "source": [
    "for num_comp in range(nb_comp):\n",
    "    data['x_' + str(num_comp)] = [embeddings[k][num_comp] for k in range(nb_data)]"
   ]
  },
  {
   "cell_type": "code",
   "execution_count": 11,
   "metadata": {},
   "outputs": [
    {
     "data": {
      "text/html": [
       "<div>\n",
       "<style scoped>\n",
       "    .dataframe tbody tr th:only-of-type {\n",
       "        vertical-align: middle;\n",
       "    }\n",
       "\n",
       "    .dataframe tbody tr th {\n",
       "        vertical-align: top;\n",
       "    }\n",
       "\n",
       "    .dataframe thead th {\n",
       "        text-align: right;\n",
       "    }\n",
       "</style>\n",
       "<table border=\"1\" class=\"dataframe\">\n",
       "  <thead>\n",
       "    <tr style=\"text-align: right;\">\n",
       "      <th></th>\n",
       "      <th>id</th>\n",
       "      <th>keyword</th>\n",
       "      <th>location</th>\n",
       "      <th>text</th>\n",
       "      <th>target</th>\n",
       "      <th>x_0</th>\n",
       "      <th>x_1</th>\n",
       "      <th>x_2</th>\n",
       "      <th>x_3</th>\n",
       "      <th>x_4</th>\n",
       "      <th>...</th>\n",
       "      <th>x_374</th>\n",
       "      <th>x_375</th>\n",
       "      <th>x_376</th>\n",
       "      <th>x_377</th>\n",
       "      <th>x_378</th>\n",
       "      <th>x_379</th>\n",
       "      <th>x_380</th>\n",
       "      <th>x_381</th>\n",
       "      <th>x_382</th>\n",
       "      <th>x_383</th>\n",
       "    </tr>\n",
       "  </thead>\n",
       "  <tbody>\n",
       "    <tr>\n",
       "      <th>0</th>\n",
       "      <td>1</td>\n",
       "      <td>NaN</td>\n",
       "      <td>NaN</td>\n",
       "      <td>Our Deeds are the Reason of this #earthquake M...</td>\n",
       "      <td>1</td>\n",
       "      <td>-0.085014</td>\n",
       "      <td>0.037619</td>\n",
       "      <td>0.043141</td>\n",
       "      <td>-0.013582</td>\n",
       "      <td>-0.039502</td>\n",
       "      <td>...</td>\n",
       "      <td>-0.015111</td>\n",
       "      <td>-0.091739</td>\n",
       "      <td>-0.006207</td>\n",
       "      <td>-0.065880</td>\n",
       "      <td>0.001195</td>\n",
       "      <td>0.028524</td>\n",
       "      <td>0.041490</td>\n",
       "      <td>0.022493</td>\n",
       "      <td>-0.052284</td>\n",
       "      <td>0.005658</td>\n",
       "    </tr>\n",
       "    <tr>\n",
       "      <th>1</th>\n",
       "      <td>4</td>\n",
       "      <td>NaN</td>\n",
       "      <td>NaN</td>\n",
       "      <td>Forest fire near La Ronge Sask. Canada</td>\n",
       "      <td>1</td>\n",
       "      <td>-0.007675</td>\n",
       "      <td>0.052327</td>\n",
       "      <td>0.060509</td>\n",
       "      <td>0.003969</td>\n",
       "      <td>0.033272</td>\n",
       "      <td>...</td>\n",
       "      <td>-0.004134</td>\n",
       "      <td>-0.068609</td>\n",
       "      <td>-0.015161</td>\n",
       "      <td>-0.026652</td>\n",
       "      <td>-0.062071</td>\n",
       "      <td>-0.040363</td>\n",
       "      <td>-0.057321</td>\n",
       "      <td>0.003138</td>\n",
       "      <td>-0.054532</td>\n",
       "      <td>0.047691</td>\n",
       "    </tr>\n",
       "    <tr>\n",
       "      <th>2</th>\n",
       "      <td>5</td>\n",
       "      <td>NaN</td>\n",
       "      <td>NaN</td>\n",
       "      <td>All residents asked to 'shelter in place' are ...</td>\n",
       "      <td>1</td>\n",
       "      <td>-0.032239</td>\n",
       "      <td>0.059961</td>\n",
       "      <td>0.045192</td>\n",
       "      <td>-0.004393</td>\n",
       "      <td>-0.003297</td>\n",
       "      <td>...</td>\n",
       "      <td>-0.055649</td>\n",
       "      <td>-0.042831</td>\n",
       "      <td>0.021676</td>\n",
       "      <td>-0.023298</td>\n",
       "      <td>-0.012054</td>\n",
       "      <td>0.014243</td>\n",
       "      <td>-0.049301</td>\n",
       "      <td>0.052759</td>\n",
       "      <td>-0.047772</td>\n",
       "      <td>0.034149</td>\n",
       "    </tr>\n",
       "    <tr>\n",
       "      <th>3</th>\n",
       "      <td>6</td>\n",
       "      <td>NaN</td>\n",
       "      <td>NaN</td>\n",
       "      <td>13,000 people receive #wildfires evacuation or...</td>\n",
       "      <td>1</td>\n",
       "      <td>-0.045641</td>\n",
       "      <td>0.017100</td>\n",
       "      <td>0.038876</td>\n",
       "      <td>-0.006642</td>\n",
       "      <td>-0.008925</td>\n",
       "      <td>...</td>\n",
       "      <td>0.007952</td>\n",
       "      <td>-0.084324</td>\n",
       "      <td>0.016554</td>\n",
       "      <td>-0.052065</td>\n",
       "      <td>-0.057295</td>\n",
       "      <td>0.017911</td>\n",
       "      <td>-0.006158</td>\n",
       "      <td>-0.018141</td>\n",
       "      <td>-0.032954</td>\n",
       "      <td>0.009808</td>\n",
       "    </tr>\n",
       "    <tr>\n",
       "      <th>4</th>\n",
       "      <td>7</td>\n",
       "      <td>NaN</td>\n",
       "      <td>NaN</td>\n",
       "      <td>Just got sent this photo from Ruby #Alaska as ...</td>\n",
       "      <td>1</td>\n",
       "      <td>-0.035520</td>\n",
       "      <td>0.023880</td>\n",
       "      <td>0.044553</td>\n",
       "      <td>0.024645</td>\n",
       "      <td>-0.000059</td>\n",
       "      <td>...</td>\n",
       "      <td>-0.024434</td>\n",
       "      <td>-0.097317</td>\n",
       "      <td>0.006670</td>\n",
       "      <td>-0.035037</td>\n",
       "      <td>-0.043080</td>\n",
       "      <td>-0.027862</td>\n",
       "      <td>0.004018</td>\n",
       "      <td>-0.050536</td>\n",
       "      <td>-0.073364</td>\n",
       "      <td>0.069326</td>\n",
       "    </tr>\n",
       "    <tr>\n",
       "      <th>...</th>\n",
       "      <td>...</td>\n",
       "      <td>...</td>\n",
       "      <td>...</td>\n",
       "      <td>...</td>\n",
       "      <td>...</td>\n",
       "      <td>...</td>\n",
       "      <td>...</td>\n",
       "      <td>...</td>\n",
       "      <td>...</td>\n",
       "      <td>...</td>\n",
       "      <td>...</td>\n",
       "      <td>...</td>\n",
       "      <td>...</td>\n",
       "      <td>...</td>\n",
       "      <td>...</td>\n",
       "      <td>...</td>\n",
       "      <td>...</td>\n",
       "      <td>...</td>\n",
       "      <td>...</td>\n",
       "      <td>...</td>\n",
       "      <td>...</td>\n",
       "    </tr>\n",
       "    <tr>\n",
       "      <th>7608</th>\n",
       "      <td>10869</td>\n",
       "      <td>NaN</td>\n",
       "      <td>NaN</td>\n",
       "      <td>Two giant cranes holding a bridge collapse int...</td>\n",
       "      <td>1</td>\n",
       "      <td>-0.066115</td>\n",
       "      <td>0.028198</td>\n",
       "      <td>0.031644</td>\n",
       "      <td>0.007943</td>\n",
       "      <td>-0.041861</td>\n",
       "      <td>...</td>\n",
       "      <td>-0.027089</td>\n",
       "      <td>-0.056331</td>\n",
       "      <td>-0.004420</td>\n",
       "      <td>-0.033254</td>\n",
       "      <td>-0.049777</td>\n",
       "      <td>0.024234</td>\n",
       "      <td>-0.028104</td>\n",
       "      <td>0.016274</td>\n",
       "      <td>-0.026338</td>\n",
       "      <td>0.045716</td>\n",
       "    </tr>\n",
       "    <tr>\n",
       "      <th>7609</th>\n",
       "      <td>10870</td>\n",
       "      <td>NaN</td>\n",
       "      <td>NaN</td>\n",
       "      <td>@aria_ahrary @TheTawniest The out of control w...</td>\n",
       "      <td>1</td>\n",
       "      <td>-0.058981</td>\n",
       "      <td>-0.002104</td>\n",
       "      <td>0.056779</td>\n",
       "      <td>0.000326</td>\n",
       "      <td>-0.019774</td>\n",
       "      <td>...</td>\n",
       "      <td>-0.000816</td>\n",
       "      <td>-0.065776</td>\n",
       "      <td>-0.016807</td>\n",
       "      <td>-0.034726</td>\n",
       "      <td>-0.068584</td>\n",
       "      <td>0.036038</td>\n",
       "      <td>-0.012903</td>\n",
       "      <td>0.001187</td>\n",
       "      <td>-0.014073</td>\n",
       "      <td>0.071948</td>\n",
       "    </tr>\n",
       "    <tr>\n",
       "      <th>7610</th>\n",
       "      <td>10871</td>\n",
       "      <td>NaN</td>\n",
       "      <td>NaN</td>\n",
       "      <td>M1.94 [01:04 UTC]?5km S of Volcano Hawaii. htt...</td>\n",
       "      <td>1</td>\n",
       "      <td>-0.079892</td>\n",
       "      <td>0.001205</td>\n",
       "      <td>0.047919</td>\n",
       "      <td>0.072155</td>\n",
       "      <td>-0.009639</td>\n",
       "      <td>...</td>\n",
       "      <td>-0.024103</td>\n",
       "      <td>-0.061858</td>\n",
       "      <td>-0.028299</td>\n",
       "      <td>-0.063712</td>\n",
       "      <td>-0.092574</td>\n",
       "      <td>0.046094</td>\n",
       "      <td>-0.002543</td>\n",
       "      <td>0.019701</td>\n",
       "      <td>-0.066698</td>\n",
       "      <td>0.025109</td>\n",
       "    </tr>\n",
       "    <tr>\n",
       "      <th>7611</th>\n",
       "      <td>10872</td>\n",
       "      <td>NaN</td>\n",
       "      <td>NaN</td>\n",
       "      <td>Police investigating after an e-bike collided ...</td>\n",
       "      <td>1</td>\n",
       "      <td>-0.085301</td>\n",
       "      <td>0.045432</td>\n",
       "      <td>0.009004</td>\n",
       "      <td>-0.025300</td>\n",
       "      <td>-0.030482</td>\n",
       "      <td>...</td>\n",
       "      <td>-0.018436</td>\n",
       "      <td>-0.036074</td>\n",
       "      <td>-0.011161</td>\n",
       "      <td>-0.058645</td>\n",
       "      <td>-0.057623</td>\n",
       "      <td>0.010821</td>\n",
       "      <td>-0.030253</td>\n",
       "      <td>0.044736</td>\n",
       "      <td>-0.037539</td>\n",
       "      <td>0.032958</td>\n",
       "    </tr>\n",
       "    <tr>\n",
       "      <th>7612</th>\n",
       "      <td>10873</td>\n",
       "      <td>NaN</td>\n",
       "      <td>NaN</td>\n",
       "      <td>The Latest: More Homes Razed by Northern Calif...</td>\n",
       "      <td>1</td>\n",
       "      <td>-0.031276</td>\n",
       "      <td>0.018512</td>\n",
       "      <td>0.044079</td>\n",
       "      <td>-0.007846</td>\n",
       "      <td>-0.003129</td>\n",
       "      <td>...</td>\n",
       "      <td>-0.004711</td>\n",
       "      <td>-0.096966</td>\n",
       "      <td>0.003382</td>\n",
       "      <td>-0.073532</td>\n",
       "      <td>-0.058755</td>\n",
       "      <td>0.024794</td>\n",
       "      <td>0.009322</td>\n",
       "      <td>-0.032192</td>\n",
       "      <td>-0.024018</td>\n",
       "      <td>0.067209</td>\n",
       "    </tr>\n",
       "  </tbody>\n",
       "</table>\n",
       "<p>7613 rows × 389 columns</p>\n",
       "</div>"
      ],
      "text/plain": [
       "         id keyword location  \\\n",
       "0         1     NaN      NaN   \n",
       "1         4     NaN      NaN   \n",
       "2         5     NaN      NaN   \n",
       "3         6     NaN      NaN   \n",
       "4         7     NaN      NaN   \n",
       "...     ...     ...      ...   \n",
       "7608  10869     NaN      NaN   \n",
       "7609  10870     NaN      NaN   \n",
       "7610  10871     NaN      NaN   \n",
       "7611  10872     NaN      NaN   \n",
       "7612  10873     NaN      NaN   \n",
       "\n",
       "                                                   text  target       x_0  \\\n",
       "0     Our Deeds are the Reason of this #earthquake M...       1 -0.085014   \n",
       "1                Forest fire near La Ronge Sask. Canada       1 -0.007675   \n",
       "2     All residents asked to 'shelter in place' are ...       1 -0.032239   \n",
       "3     13,000 people receive #wildfires evacuation or...       1 -0.045641   \n",
       "4     Just got sent this photo from Ruby #Alaska as ...       1 -0.035520   \n",
       "...                                                 ...     ...       ...   \n",
       "7608  Two giant cranes holding a bridge collapse int...       1 -0.066115   \n",
       "7609  @aria_ahrary @TheTawniest The out of control w...       1 -0.058981   \n",
       "7610  M1.94 [01:04 UTC]?5km S of Volcano Hawaii. htt...       1 -0.079892   \n",
       "7611  Police investigating after an e-bike collided ...       1 -0.085301   \n",
       "7612  The Latest: More Homes Razed by Northern Calif...       1 -0.031276   \n",
       "\n",
       "           x_1       x_2       x_3       x_4  ...     x_374     x_375  \\\n",
       "0     0.037619  0.043141 -0.013582 -0.039502  ... -0.015111 -0.091739   \n",
       "1     0.052327  0.060509  0.003969  0.033272  ... -0.004134 -0.068609   \n",
       "2     0.059961  0.045192 -0.004393 -0.003297  ... -0.055649 -0.042831   \n",
       "3     0.017100  0.038876 -0.006642 -0.008925  ...  0.007952 -0.084324   \n",
       "4     0.023880  0.044553  0.024645 -0.000059  ... -0.024434 -0.097317   \n",
       "...        ...       ...       ...       ...  ...       ...       ...   \n",
       "7608  0.028198  0.031644  0.007943 -0.041861  ... -0.027089 -0.056331   \n",
       "7609 -0.002104  0.056779  0.000326 -0.019774  ... -0.000816 -0.065776   \n",
       "7610  0.001205  0.047919  0.072155 -0.009639  ... -0.024103 -0.061858   \n",
       "7611  0.045432  0.009004 -0.025300 -0.030482  ... -0.018436 -0.036074   \n",
       "7612  0.018512  0.044079 -0.007846 -0.003129  ... -0.004711 -0.096966   \n",
       "\n",
       "         x_376     x_377     x_378     x_379     x_380     x_381     x_382  \\\n",
       "0    -0.006207 -0.065880  0.001195  0.028524  0.041490  0.022493 -0.052284   \n",
       "1    -0.015161 -0.026652 -0.062071 -0.040363 -0.057321  0.003138 -0.054532   \n",
       "2     0.021676 -0.023298 -0.012054  0.014243 -0.049301  0.052759 -0.047772   \n",
       "3     0.016554 -0.052065 -0.057295  0.017911 -0.006158 -0.018141 -0.032954   \n",
       "4     0.006670 -0.035037 -0.043080 -0.027862  0.004018 -0.050536 -0.073364   \n",
       "...        ...       ...       ...       ...       ...       ...       ...   \n",
       "7608 -0.004420 -0.033254 -0.049777  0.024234 -0.028104  0.016274 -0.026338   \n",
       "7609 -0.016807 -0.034726 -0.068584  0.036038 -0.012903  0.001187 -0.014073   \n",
       "7610 -0.028299 -0.063712 -0.092574  0.046094 -0.002543  0.019701 -0.066698   \n",
       "7611 -0.011161 -0.058645 -0.057623  0.010821 -0.030253  0.044736 -0.037539   \n",
       "7612  0.003382 -0.073532 -0.058755  0.024794  0.009322 -0.032192 -0.024018   \n",
       "\n",
       "         x_383  \n",
       "0     0.005658  \n",
       "1     0.047691  \n",
       "2     0.034149  \n",
       "3     0.009808  \n",
       "4     0.069326  \n",
       "...        ...  \n",
       "7608  0.045716  \n",
       "7609  0.071948  \n",
       "7610  0.025109  \n",
       "7611  0.032958  \n",
       "7612  0.067209  \n",
       "\n",
       "[7613 rows x 389 columns]"
      ]
     },
     "execution_count": 11,
     "metadata": {},
     "output_type": "execute_result"
    }
   ],
   "source": [
    "data"
   ]
  },
  {
   "cell_type": "markdown",
   "metadata": {},
   "source": [
    "# Training"
   ]
  },
  {
   "cell_type": "markdown",
   "metadata": {},
   "source": [
    "## K-NN"
   ]
  },
  {
   "cell_type": "code",
   "execution_count": null,
   "metadata": {},
   "outputs": [],
   "source": []
  },
  {
   "cell_type": "markdown",
   "metadata": {},
   "source": [
    "## Linear regression"
   ]
  },
  {
   "cell_type": "code",
   "execution_count": null,
   "metadata": {},
   "outputs": [],
   "source": []
  },
  {
   "cell_type": "markdown",
   "metadata": {},
   "source": [
    "## Ridge regression"
   ]
  },
  {
   "cell_type": "code",
   "execution_count": null,
   "metadata": {},
   "outputs": [],
   "source": []
  },
  {
   "cell_type": "markdown",
   "metadata": {},
   "source": [
    "## Lasso regression"
   ]
  },
  {
   "cell_type": "code",
   "execution_count": null,
   "metadata": {},
   "outputs": [],
   "source": []
  },
  {
   "cell_type": "markdown",
   "metadata": {},
   "source": [
    "## BERT"
   ]
  },
  {
   "cell_type": "code",
   "execution_count": null,
   "metadata": {},
   "outputs": [],
   "source": []
  },
  {
   "cell_type": "markdown",
   "metadata": {},
   "source": [
    "# Evaluation"
   ]
  },
  {
   "cell_type": "code",
   "execution_count": null,
   "metadata": {},
   "outputs": [],
   "source": [
    "x0 = [0 for _ in range(len(embeddings[0]))]"
   ]
  },
  {
   "cell_type": "code",
   "execution_count": null,
   "metadata": {},
   "outputs": [],
   "source": [
    "for embedding in embeddings:\n",
    "    data.add_column(embedding)\n",
    "    for i, component in enumerate(embedding):\n",
    "        data[f\"x_{i}\"] = component"
   ]
  }
 ],
 "metadata": {
  "kernelspec": {
   "display_name": "ml_project_env",
   "language": "python",
   "name": "python3"
  },
  "language_info": {
   "codemirror_mode": {
    "name": "ipython",
    "version": 3
   },
   "file_extension": ".py",
   "mimetype": "text/x-python",
   "name": "python",
   "nbconvert_exporter": "python",
   "pygments_lexer": "ipython3",
   "version": "3.9.18"
  }
 },
 "nbformat": 4,
 "nbformat_minor": 2
}
