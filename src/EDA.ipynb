{
 "cells": [
  {
   "cell_type": "markdown",
   "metadata": {},
   "source": [
    "# Load data"
   ]
  },
  {
   "cell_type": "code",
   "execution_count": 5,
   "metadata": {},
   "outputs": [],
   "source": [
    "import pandas as pd"
   ]
  },
  {
   "cell_type": "code",
   "execution_count": 6,
   "metadata": {},
   "outputs": [],
   "source": [
    "from pathlib import Path\n",
    "\n",
    "def load_data(path: str) -> pd.DataFrame:\n",
    "    data = pd.read_csv(Path(path))\n",
    "    return data"
   ]
  },
  {
   "cell_type": "code",
   "execution_count": 7,
   "metadata": {},
   "outputs": [],
   "source": [
    "data = load_data(\"../data/data.csv\")"
   ]
  },
  {
   "cell_type": "code",
   "execution_count": 8,
   "metadata": {},
   "outputs": [
    {
     "name": "stdout",
     "output_type": "stream",
     "text": [
      "<class 'pandas.core.frame.DataFrame'>\n",
      "RangeIndex: 7613 entries, 0 to 7612\n",
      "Data columns (total 5 columns):\n",
      " #   Column    Non-Null Count  Dtype \n",
      "---  ------    --------------  ----- \n",
      " 0   id        7613 non-null   int64 \n",
      " 1   keyword   7552 non-null   object\n",
      " 2   location  5080 non-null   object\n",
      " 3   text      7613 non-null   object\n",
      " 4   target    7613 non-null   int64 \n",
      "dtypes: int64(2), object(3)\n",
      "memory usage: 297.5+ KB\n"
     ]
    }
   ],
   "source": [
    "data.info()"
   ]
  },
  {
   "cell_type": "markdown",
   "metadata": {},
   "source": [
    "# Preprocessing"
   ]
  },
  {
   "cell_type": "code",
   "execution_count": 9,
   "metadata": {},
   "outputs": [],
   "source": [
    "from warnings import filterwarnings\n",
    "filterwarnings(\"ignore\")"
   ]
  },
  {
   "cell_type": "code",
   "execution_count": 10,
   "metadata": {},
   "outputs": [],
   "source": [
    "from sentence_transformers import SentenceTransformer\n",
    "\n",
    "# intfloat/e5-small-v2 or intfloat/e5-base-v2 or intfloat/e5-large-v2\n",
    "model = SentenceTransformer(\"intfloat/e5-small-v2\")"
   ]
  },
  {
   "cell_type": "code",
   "execution_count": 11,
   "metadata": {},
   "outputs": [
    {
     "data": {
      "application/vnd.jupyter.widget-view+json": {
       "model_id": "394ce2a8e8d94978b1a3b1392184d080",
       "version_major": 2,
       "version_minor": 0
      },
      "text/plain": [
       "Batches:   0%|          | 0/238 [00:00<?, ?it/s]"
      ]
     },
     "metadata": {},
     "output_type": "display_data"
    }
   ],
   "source": [
    "embeddings = model.encode(data['text'], normalize_embeddings=True, show_progress_bar=True)"
   ]
  },
  {
   "cell_type": "code",
   "execution_count": 12,
   "metadata": {},
   "outputs": [
    {
     "name": "stdout",
     "output_type": "stream",
     "text": [
      "embedding size : 384\n"
     ]
    }
   ],
   "source": [
    "nb_comp = len(embeddings[0])\n",
    "nb_data = len(embeddings)\n",
    "print(f\"embedding size : {nb_comp}\")"
   ]
  },
  {
   "cell_type": "code",
   "execution_count": 13,
   "metadata": {},
   "outputs": [],
   "source": [
    "for num_comp in range(nb_comp):\n",
    "    data['x_' + str(num_comp)] = [embeddings[k][num_comp] for k in range(nb_data)]"
   ]
  },
  {
   "cell_type": "markdown",
   "metadata": {},
   "source": [
    "Created a column for every data of embedding created, 384 in this case"
   ]
  },
  {
   "cell_type": "code",
   "execution_count": 24,
   "metadata": {},
   "outputs": [
    {
     "data": {
      "text/html": [
       "<div>\n",
       "<style scoped>\n",
       "    .dataframe tbody tr th:only-of-type {\n",
       "        vertical-align: middle;\n",
       "    }\n",
       "\n",
       "    .dataframe tbody tr th {\n",
       "        vertical-align: top;\n",
       "    }\n",
       "\n",
       "    .dataframe thead th {\n",
       "        text-align: right;\n",
       "    }\n",
       "</style>\n",
       "<table border=\"1\" class=\"dataframe\">\n",
       "  <thead>\n",
       "    <tr style=\"text-align: right;\">\n",
       "      <th></th>\n",
       "      <th>id</th>\n",
       "      <th>keyword</th>\n",
       "      <th>location</th>\n",
       "      <th>text</th>\n",
       "      <th>target</th>\n",
       "      <th>x_0</th>\n",
       "      <th>x_1</th>\n",
       "      <th>x_2</th>\n",
       "      <th>x_3</th>\n",
       "      <th>x_4</th>\n",
       "      <th>...</th>\n",
       "      <th>x_374</th>\n",
       "      <th>x_375</th>\n",
       "      <th>x_376</th>\n",
       "      <th>x_377</th>\n",
       "      <th>x_378</th>\n",
       "      <th>x_379</th>\n",
       "      <th>x_380</th>\n",
       "      <th>x_381</th>\n",
       "      <th>x_382</th>\n",
       "      <th>x_383</th>\n",
       "    </tr>\n",
       "  </thead>\n",
       "  <tbody>\n",
       "    <tr>\n",
       "      <th>0</th>\n",
       "      <td>1</td>\n",
       "      <td>NaN</td>\n",
       "      <td>NaN</td>\n",
       "      <td>Our Deeds are the Reason of this #earthquake M...</td>\n",
       "      <td>1</td>\n",
       "      <td>-0.085014</td>\n",
       "      <td>0.037619</td>\n",
       "      <td>0.043141</td>\n",
       "      <td>-0.013582</td>\n",
       "      <td>-0.039502</td>\n",
       "      <td>...</td>\n",
       "      <td>-0.015111</td>\n",
       "      <td>-0.091739</td>\n",
       "      <td>-0.006207</td>\n",
       "      <td>-0.065880</td>\n",
       "      <td>0.001196</td>\n",
       "      <td>0.028524</td>\n",
       "      <td>0.041490</td>\n",
       "      <td>0.022493</td>\n",
       "      <td>-0.052284</td>\n",
       "      <td>0.005658</td>\n",
       "    </tr>\n",
       "    <tr>\n",
       "      <th>1</th>\n",
       "      <td>4</td>\n",
       "      <td>NaN</td>\n",
       "      <td>NaN</td>\n",
       "      <td>Forest fire near La Ronge Sask. Canada</td>\n",
       "      <td>1</td>\n",
       "      <td>-0.007675</td>\n",
       "      <td>0.052327</td>\n",
       "      <td>0.060509</td>\n",
       "      <td>0.003969</td>\n",
       "      <td>0.033272</td>\n",
       "      <td>...</td>\n",
       "      <td>-0.004133</td>\n",
       "      <td>-0.068609</td>\n",
       "      <td>-0.015161</td>\n",
       "      <td>-0.026652</td>\n",
       "      <td>-0.062071</td>\n",
       "      <td>-0.040363</td>\n",
       "      <td>-0.057321</td>\n",
       "      <td>0.003138</td>\n",
       "      <td>-0.054532</td>\n",
       "      <td>0.047691</td>\n",
       "    </tr>\n",
       "    <tr>\n",
       "      <th>2</th>\n",
       "      <td>5</td>\n",
       "      <td>NaN</td>\n",
       "      <td>NaN</td>\n",
       "      <td>All residents asked to 'shelter in place' are ...</td>\n",
       "      <td>1</td>\n",
       "      <td>-0.032239</td>\n",
       "      <td>0.059961</td>\n",
       "      <td>0.045192</td>\n",
       "      <td>-0.004393</td>\n",
       "      <td>-0.003297</td>\n",
       "      <td>...</td>\n",
       "      <td>-0.055649</td>\n",
       "      <td>-0.042831</td>\n",
       "      <td>0.021676</td>\n",
       "      <td>-0.023298</td>\n",
       "      <td>-0.012054</td>\n",
       "      <td>0.014243</td>\n",
       "      <td>-0.049301</td>\n",
       "      <td>0.052759</td>\n",
       "      <td>-0.047772</td>\n",
       "      <td>0.034149</td>\n",
       "    </tr>\n",
       "    <tr>\n",
       "      <th>3</th>\n",
       "      <td>6</td>\n",
       "      <td>NaN</td>\n",
       "      <td>NaN</td>\n",
       "      <td>13,000 people receive #wildfires evacuation or...</td>\n",
       "      <td>1</td>\n",
       "      <td>-0.045641</td>\n",
       "      <td>0.017100</td>\n",
       "      <td>0.038876</td>\n",
       "      <td>-0.006642</td>\n",
       "      <td>-0.008925</td>\n",
       "      <td>...</td>\n",
       "      <td>0.007952</td>\n",
       "      <td>-0.084324</td>\n",
       "      <td>0.016554</td>\n",
       "      <td>-0.052065</td>\n",
       "      <td>-0.057295</td>\n",
       "      <td>0.017911</td>\n",
       "      <td>-0.006158</td>\n",
       "      <td>-0.018141</td>\n",
       "      <td>-0.032954</td>\n",
       "      <td>0.009808</td>\n",
       "    </tr>\n",
       "    <tr>\n",
       "      <th>4</th>\n",
       "      <td>7</td>\n",
       "      <td>NaN</td>\n",
       "      <td>NaN</td>\n",
       "      <td>Just got sent this photo from Ruby #Alaska as ...</td>\n",
       "      <td>1</td>\n",
       "      <td>-0.035520</td>\n",
       "      <td>0.023880</td>\n",
       "      <td>0.044553</td>\n",
       "      <td>0.024645</td>\n",
       "      <td>-0.000059</td>\n",
       "      <td>...</td>\n",
       "      <td>-0.024434</td>\n",
       "      <td>-0.097317</td>\n",
       "      <td>0.006670</td>\n",
       "      <td>-0.035037</td>\n",
       "      <td>-0.043080</td>\n",
       "      <td>-0.027862</td>\n",
       "      <td>0.004018</td>\n",
       "      <td>-0.050536</td>\n",
       "      <td>-0.073364</td>\n",
       "      <td>0.069326</td>\n",
       "    </tr>\n",
       "  </tbody>\n",
       "</table>\n",
       "<p>5 rows × 389 columns</p>\n",
       "</div>"
      ],
      "text/plain": [
       "   id keyword location                                               text  \\\n",
       "0   1     NaN      NaN  Our Deeds are the Reason of this #earthquake M...   \n",
       "1   4     NaN      NaN             Forest fire near La Ronge Sask. Canada   \n",
       "2   5     NaN      NaN  All residents asked to 'shelter in place' are ...   \n",
       "3   6     NaN      NaN  13,000 people receive #wildfires evacuation or...   \n",
       "4   7     NaN      NaN  Just got sent this photo from Ruby #Alaska as ...   \n",
       "\n",
       "   target       x_0       x_1       x_2       x_3       x_4  ...     x_374  \\\n",
       "0       1 -0.085014  0.037619  0.043141 -0.013582 -0.039502  ... -0.015111   \n",
       "1       1 -0.007675  0.052327  0.060509  0.003969  0.033272  ... -0.004133   \n",
       "2       1 -0.032239  0.059961  0.045192 -0.004393 -0.003297  ... -0.055649   \n",
       "3       1 -0.045641  0.017100  0.038876 -0.006642 -0.008925  ...  0.007952   \n",
       "4       1 -0.035520  0.023880  0.044553  0.024645 -0.000059  ... -0.024434   \n",
       "\n",
       "      x_375     x_376     x_377     x_378     x_379     x_380     x_381  \\\n",
       "0 -0.091739 -0.006207 -0.065880  0.001196  0.028524  0.041490  0.022493   \n",
       "1 -0.068609 -0.015161 -0.026652 -0.062071 -0.040363 -0.057321  0.003138   \n",
       "2 -0.042831  0.021676 -0.023298 -0.012054  0.014243 -0.049301  0.052759   \n",
       "3 -0.084324  0.016554 -0.052065 -0.057295  0.017911 -0.006158 -0.018141   \n",
       "4 -0.097317  0.006670 -0.035037 -0.043080 -0.027862  0.004018 -0.050536   \n",
       "\n",
       "      x_382     x_383  \n",
       "0 -0.052284  0.005658  \n",
       "1 -0.054532  0.047691  \n",
       "2 -0.047772  0.034149  \n",
       "3 -0.032954  0.009808  \n",
       "4 -0.073364  0.069326  \n",
       "\n",
       "[5 rows x 389 columns]"
      ]
     },
     "execution_count": 24,
     "metadata": {},
     "output_type": "execute_result"
    }
   ],
   "source": [
    "data.head(5)"
   ]
  },
  {
   "cell_type": "code",
   "execution_count": 15,
   "metadata": {},
   "outputs": [],
   "source": [
    "data_keywords = data['keyword']"
   ]
  },
  {
   "cell_type": "code",
   "execution_count": 16,
   "metadata": {},
   "outputs": [
    {
     "data": {
      "text/plain": [
       "7613"
      ]
     },
     "execution_count": 16,
     "metadata": {},
     "output_type": "execute_result"
    }
   ],
   "source": [
    "data_keywords.size"
   ]
  },
  {
   "cell_type": "code",
   "execution_count": 25,
   "metadata": {},
   "outputs": [
    {
     "data": {
      "text/plain": [
       "keyword\n",
       "fatalities               0.005959\n",
       "deluge                   0.005561\n",
       "armageddon               0.005561\n",
       "sinking                  0.005429\n",
       "damage                   0.005429\n",
       "                           ...   \n",
       "forest%20fire            0.002516\n",
       "epicentre                0.001589\n",
       "threat                   0.001457\n",
       "inundation               0.001324\n",
       "radiation%20emergency    0.001192\n",
       "Name: proportion, Length: 221, dtype: float64"
      ]
     },
     "execution_count": 25,
     "metadata": {},
     "output_type": "execute_result"
    }
   ],
   "source": [
    "data_keywords.value_counts(normalize=True)\n"
   ]
  },
  {
   "cell_type": "code",
   "execution_count": null,
   "metadata": {},
   "outputs": [],
   "source": []
  },
  {
   "cell_type": "code",
   "execution_count": 18,
   "metadata": {},
   "outputs": [],
   "source": [
    "columns = ['keyword']\n",
    "data_dummy = pd.get_dummies(data, columns=columns, drop_first=True)\n",
    "data_dummy.replace({False: 0, True: 1}, inplace=True)"
   ]
  },
  {
   "cell_type": "code",
   "execution_count": 26,
   "metadata": {},
   "outputs": [
    {
     "data": {
      "text/html": [
       "<div>\n",
       "<style scoped>\n",
       "    .dataframe tbody tr th:only-of-type {\n",
       "        vertical-align: middle;\n",
       "    }\n",
       "\n",
       "    .dataframe tbody tr th {\n",
       "        vertical-align: top;\n",
       "    }\n",
       "\n",
       "    .dataframe thead th {\n",
       "        text-align: right;\n",
       "    }\n",
       "</style>\n",
       "<table border=\"1\" class=\"dataframe\">\n",
       "  <thead>\n",
       "    <tr style=\"text-align: right;\">\n",
       "      <th></th>\n",
       "      <th>id</th>\n",
       "      <th>location</th>\n",
       "      <th>text</th>\n",
       "      <th>target</th>\n",
       "      <th>x_0</th>\n",
       "      <th>x_1</th>\n",
       "      <th>x_2</th>\n",
       "      <th>x_3</th>\n",
       "      <th>x_4</th>\n",
       "      <th>x_5</th>\n",
       "      <th>...</th>\n",
       "      <th>keyword_weapons</th>\n",
       "      <th>keyword_whirlwind</th>\n",
       "      <th>keyword_wild%20fires</th>\n",
       "      <th>keyword_wildfire</th>\n",
       "      <th>keyword_windstorm</th>\n",
       "      <th>keyword_wounded</th>\n",
       "      <th>keyword_wounds</th>\n",
       "      <th>keyword_wreck</th>\n",
       "      <th>keyword_wreckage</th>\n",
       "      <th>keyword_wrecked</th>\n",
       "    </tr>\n",
       "  </thead>\n",
       "  <tbody>\n",
       "    <tr>\n",
       "      <th>0</th>\n",
       "      <td>1</td>\n",
       "      <td>NaN</td>\n",
       "      <td>Our Deeds are the Reason of this #earthquake M...</td>\n",
       "      <td>1</td>\n",
       "      <td>-0.085014</td>\n",
       "      <td>0.037619</td>\n",
       "      <td>0.043141</td>\n",
       "      <td>-0.013582</td>\n",
       "      <td>-0.039502</td>\n",
       "      <td>0.030180</td>\n",
       "      <td>...</td>\n",
       "      <td>0</td>\n",
       "      <td>0</td>\n",
       "      <td>0</td>\n",
       "      <td>0</td>\n",
       "      <td>0</td>\n",
       "      <td>0</td>\n",
       "      <td>0</td>\n",
       "      <td>0</td>\n",
       "      <td>0</td>\n",
       "      <td>0</td>\n",
       "    </tr>\n",
       "    <tr>\n",
       "      <th>1</th>\n",
       "      <td>4</td>\n",
       "      <td>NaN</td>\n",
       "      <td>Forest fire near La Ronge Sask. Canada</td>\n",
       "      <td>1</td>\n",
       "      <td>-0.007675</td>\n",
       "      <td>0.052327</td>\n",
       "      <td>0.060509</td>\n",
       "      <td>0.003969</td>\n",
       "      <td>0.033272</td>\n",
       "      <td>0.049459</td>\n",
       "      <td>...</td>\n",
       "      <td>0</td>\n",
       "      <td>0</td>\n",
       "      <td>0</td>\n",
       "      <td>0</td>\n",
       "      <td>0</td>\n",
       "      <td>0</td>\n",
       "      <td>0</td>\n",
       "      <td>0</td>\n",
       "      <td>0</td>\n",
       "      <td>0</td>\n",
       "    </tr>\n",
       "    <tr>\n",
       "      <th>2</th>\n",
       "      <td>5</td>\n",
       "      <td>NaN</td>\n",
       "      <td>All residents asked to 'shelter in place' are ...</td>\n",
       "      <td>1</td>\n",
       "      <td>-0.032239</td>\n",
       "      <td>0.059961</td>\n",
       "      <td>0.045192</td>\n",
       "      <td>-0.004393</td>\n",
       "      <td>-0.003297</td>\n",
       "      <td>0.037312</td>\n",
       "      <td>...</td>\n",
       "      <td>0</td>\n",
       "      <td>0</td>\n",
       "      <td>0</td>\n",
       "      <td>0</td>\n",
       "      <td>0</td>\n",
       "      <td>0</td>\n",
       "      <td>0</td>\n",
       "      <td>0</td>\n",
       "      <td>0</td>\n",
       "      <td>0</td>\n",
       "    </tr>\n",
       "    <tr>\n",
       "      <th>3</th>\n",
       "      <td>6</td>\n",
       "      <td>NaN</td>\n",
       "      <td>13,000 people receive #wildfires evacuation or...</td>\n",
       "      <td>1</td>\n",
       "      <td>-0.045641</td>\n",
       "      <td>0.017100</td>\n",
       "      <td>0.038876</td>\n",
       "      <td>-0.006642</td>\n",
       "      <td>-0.008925</td>\n",
       "      <td>0.028679</td>\n",
       "      <td>...</td>\n",
       "      <td>0</td>\n",
       "      <td>0</td>\n",
       "      <td>0</td>\n",
       "      <td>0</td>\n",
       "      <td>0</td>\n",
       "      <td>0</td>\n",
       "      <td>0</td>\n",
       "      <td>0</td>\n",
       "      <td>0</td>\n",
       "      <td>0</td>\n",
       "    </tr>\n",
       "    <tr>\n",
       "      <th>4</th>\n",
       "      <td>7</td>\n",
       "      <td>NaN</td>\n",
       "      <td>Just got sent this photo from Ruby #Alaska as ...</td>\n",
       "      <td>1</td>\n",
       "      <td>-0.035520</td>\n",
       "      <td>0.023880</td>\n",
       "      <td>0.044553</td>\n",
       "      <td>0.024645</td>\n",
       "      <td>-0.000059</td>\n",
       "      <td>0.047627</td>\n",
       "      <td>...</td>\n",
       "      <td>0</td>\n",
       "      <td>0</td>\n",
       "      <td>0</td>\n",
       "      <td>0</td>\n",
       "      <td>0</td>\n",
       "      <td>0</td>\n",
       "      <td>0</td>\n",
       "      <td>0</td>\n",
       "      <td>0</td>\n",
       "      <td>0</td>\n",
       "    </tr>\n",
       "  </tbody>\n",
       "</table>\n",
       "<p>5 rows × 608 columns</p>\n",
       "</div>"
      ],
      "text/plain": [
       "   id location                                               text  target  \\\n",
       "0   1      NaN  Our Deeds are the Reason of this #earthquake M...       1   \n",
       "1   4      NaN             Forest fire near La Ronge Sask. Canada       1   \n",
       "2   5      NaN  All residents asked to 'shelter in place' are ...       1   \n",
       "3   6      NaN  13,000 people receive #wildfires evacuation or...       1   \n",
       "4   7      NaN  Just got sent this photo from Ruby #Alaska as ...       1   \n",
       "\n",
       "        x_0       x_1       x_2       x_3       x_4       x_5  ...  \\\n",
       "0 -0.085014  0.037619  0.043141 -0.013582 -0.039502  0.030180  ...   \n",
       "1 -0.007675  0.052327  0.060509  0.003969  0.033272  0.049459  ...   \n",
       "2 -0.032239  0.059961  0.045192 -0.004393 -0.003297  0.037312  ...   \n",
       "3 -0.045641  0.017100  0.038876 -0.006642 -0.008925  0.028679  ...   \n",
       "4 -0.035520  0.023880  0.044553  0.024645 -0.000059  0.047627  ...   \n",
       "\n",
       "   keyword_weapons  keyword_whirlwind  keyword_wild%20fires  keyword_wildfire  \\\n",
       "0                0                  0                     0                 0   \n",
       "1                0                  0                     0                 0   \n",
       "2                0                  0                     0                 0   \n",
       "3                0                  0                     0                 0   \n",
       "4                0                  0                     0                 0   \n",
       "\n",
       "   keyword_windstorm  keyword_wounded  keyword_wounds  keyword_wreck  \\\n",
       "0                  0                0               0              0   \n",
       "1                  0                0               0              0   \n",
       "2                  0                0               0              0   \n",
       "3                  0                0               0              0   \n",
       "4                  0                0               0              0   \n",
       "\n",
       "   keyword_wreckage  keyword_wrecked  \n",
       "0                 0                0  \n",
       "1                 0                0  \n",
       "2                 0                0  \n",
       "3                 0                0  \n",
       "4                 0                0  \n",
       "\n",
       "[5 rows x 608 columns]"
      ]
     },
     "execution_count": 26,
     "metadata": {},
     "output_type": "execute_result"
    }
   ],
   "source": [
    "data_dummy.head(5)"
   ]
  },
  {
   "cell_type": "code",
   "execution_count": 20,
   "metadata": {},
   "outputs": [
    {
     "name": "stdout",
     "output_type": "stream",
     "text": [
      "<class 'pandas.core.frame.DataFrame'>\n",
      "RangeIndex: 7613 entries, 0 to 7612\n",
      "Columns: 608 entries, id to keyword_wrecked\n",
      "dtypes: float32(384), int64(222), object(2)\n",
      "memory usage: 24.2+ MB\n"
     ]
    }
   ],
   "source": [
    "data_dummy.info()"
   ]
  },
  {
   "cell_type": "code",
   "execution_count": 21,
   "metadata": {},
   "outputs": [
    {
     "name": "stdout",
     "output_type": "stream",
     "text": [
      "Birmingham (52.4796992, -1.9026911)\n",
      "Est. September 2012 - Bristol None\n",
      "AFRICA (11.5024338, 17.7578122)\n",
      "Philadelphia, PA (39.9527237, -75.1635262)\n",
      "London, UK (51.5074456, -0.1277653)\n",
      "Pretoria (-25.7459277, 28.1879101)\n",
      "World Wide!! (28.3376729, -81.55752250357412)\n",
      "Paranaque City (14.4573274, 121.03323686843908)\n",
      "Live On Webcam None\n",
      "milky way (-7.1280388, 52.7448393)\n"
     ]
    }
   ],
   "source": [
    "from geopy.geocoders import Nominatim\n",
    "\n",
    "geolocator = Nominatim(user_agent=\"my_app\")\n",
    "data_dummy_wNan = data_dummy.dropna()\n",
    "\n",
    "def get_coordinates(location):\n",
    "    try:\n",
    "        location = geolocator.geocode(location)\n",
    "        return location.latitude, location.longitude\n",
    "    except:\n",
    "        return None\n",
    "\n",
    "data_tmp = data_dummy_wNan.head(10)\n",
    "for location in data_tmp['location']:\n",
    "    print(location, get_coordinates(location))\n",
    "# data_tmp['coordinates'] = data1['location'].apply(get_coordinates)\n"
   ]
  },
  {
   "cell_type": "code",
   "execution_count": 22,
   "metadata": {},
   "outputs": [],
   "source": [
    "# data_dummy_wNan.apply(lambda x: get_coordinates(x['location']), axis=1)"
   ]
  },
  {
   "cell_type": "code",
   "execution_count": 23,
   "metadata": {},
   "outputs": [],
   "source": [
    "# import seaborn as sns\n",
    "# import matplotlib.pyplot as plt\n",
    "\n",
    "# data_dummy_wNan = data_dummy.dropna()\n",
    "# corr = data_dummy_wNan.corr()\n",
    "# sns.heatmap(corr, annot=False, cmap='coolwarm', linewidths=0.5)\n"
   ]
  }
 ],
 "metadata": {
  "kernelspec": {
   "display_name": "ml_venv",
   "language": "python",
   "name": "python3"
  },
  "language_info": {
   "codemirror_mode": {
    "name": "ipython",
    "version": 3
   },
   "file_extension": ".py",
   "mimetype": "text/x-python",
   "name": "python",
   "nbconvert_exporter": "python",
   "pygments_lexer": "ipython3",
   "version": "3.9.18"
  }
 },
 "nbformat": 4,
 "nbformat_minor": 2
}
