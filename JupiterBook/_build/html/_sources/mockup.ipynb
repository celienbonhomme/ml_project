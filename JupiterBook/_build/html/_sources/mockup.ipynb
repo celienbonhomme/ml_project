{
 "cells": [
  {
   "cell_type": "markdown",
   "metadata": {},
   "source": [
    "# Mockup"
   ]
  },
  {
   "cell_type": "markdown",
   "metadata": {},
   "source": [
    "![mockup.png](mockup.png)"
   ]
  }
 ],
 "metadata": {
  "language_info": {
   "name": "python"
  }
 },
 "nbformat": 4,
 "nbformat_minor": 2
}
