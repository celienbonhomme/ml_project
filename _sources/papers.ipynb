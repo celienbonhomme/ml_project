{
 "cells": [
  {
   "cell_type": "markdown",
   "metadata": {},
   "source": [
    "•⁠  ⁠Hopular: Modern Hopfield Networks for Tabular Data (https://arxiv.org/pdf/2206.00664v1.pdf)  \n",
    "Introduces a novel approach using Hopfield networks for tabular data. Hopfield networks, traditionally used in associative memory tasks, are adapted to handle tabular data, showing promising results in terms of accuracy and efficiency.\n",
    "\n",
    "\n",
    "•⁠  ⁠XBNet: An Extremely Boosted Neural Network (https://arxiv.org/pdf/2106.05239v3.pdf)  \n",
    "Introduces XBNet, a new type of neural network architecture that leverages extreme boosting techniques. This approach aims to improve model performance and reduce computational costs, making it a compelling option for large-scale machine learning tasks \n",
    "\n",
    "\n",
    "•⁠  ⁠V2W-BERT (https://arxiv.org/pdf/2102.11498v1.pdf)  \n",
    "_A Framework for Effective Hierarchical Multiclass Classification of Software Vulnerabilities\n",
    "Introduces V2W-BERT, a framework tailored for hierarchical multiclass classification of software vulnerabilities. This model extends the BERT architecture, enabling more effective classification of vulnerabilities based on their hierarchical nature_"
   ]
  }
 ],
 "metadata": {
  "language_info": {
   "name": "python"
  }
 },
 "nbformat": 4,
 "nbformat_minor": 2
}
